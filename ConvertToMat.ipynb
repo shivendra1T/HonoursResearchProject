{
 "cells": [
  {
   "cell_type": "code",
   "execution_count": 19,
   "id": "c20bca13",
   "metadata": {},
   "outputs": [],
   "source": [
    "import pandas as pd\n",
    "from scipy.io import savemat\n",
    "import os"
   ]
  },
  {
   "cell_type": "code",
   "execution_count": 20,
   "id": "182f5b8d",
   "metadata": {},
   "outputs": [],
   "source": [
    "def convert_to_mat(input_file, output_file=None):\n",
    "    # Determine file type\n",
    "    file_ext = os.path.splitext(input_file)[-1].lower()\n",
    "\n",
    "    # Read file into DataFrame\n",
    "    if file_ext == '.csv':\n",
    "        df = pd.read_csv(input_file)\n",
    "    elif file_ext in ['.xls', '.xlsx']:\n",
    "        df = pd.read_excel(input_file)\n",
    "    else:\n",
    "        raise ValueError(\"Unsupported file format. Use CSV or Excel (.xls/.xlsx).\")\n",
    "\n",
    "    # Convert DataFrame to dict format required by savemat\n",
    "    mat_dict = {'data': df.to_numpy(), 'columns': df.columns.to_list()}\n",
    "\n",
    "    # Set output file name\n",
    "    if output_file is None:\n",
    "        output_file = os.path.splitext(input_file)[0] + '.mat'\n",
    "\n",
    "    # Save as .mat\n",
    "    savemat(output_file, mat_dict)\n",
    "    print(f\"Saved .mat file to: {output_file}\")"
   ]
  },
  {
   "cell_type": "code",
   "execution_count": 21,
   "id": "da164f8a",
   "metadata": {},
   "outputs": [
    {
     "name": "stdout",
     "output_type": "stream",
     "text": [
      "Saved .mat file to: C:\\Users\\hp\\Desktop\\REG108S\\Project\\MatLab Data\\LoadFlow 20250430\\upsampled_288.mat\n"
     ]
    }
   ],
   "source": [
    "# Example usage\n",
    "filepath = r\"C:\\Users\\hp\\Desktop\\REG108S\\Project\\MatLab Data\\LoadFlow 20250430\\upsampled_288.csv\"\n",
    "convert_to_mat(filepath)\n",
    "# convert_to_mat('your_data.xlsx')"
   ]
  },
  {
   "cell_type": "code",
   "execution_count": 22,
   "id": "2a954be7",
   "metadata": {},
   "outputs": [
    {
     "name": "stdout",
     "output_type": "stream",
     "text": [
      "Saved .mat file to: C:\\Users\\hp\\Desktop\\REG108S\\Project\\MatLab Data\\LoadFlow 20250501\\upsampled_288.mat\n"
     ]
    }
   ],
   "source": [
    "filepath = r\"C:\\Users\\hp\\Desktop\\REG108S\\Project\\MatLab Data\\LoadFlow 20250501\\upsampled_288.csv\"\n",
    "convert_to_mat(filepath)\n",
    "# convert_to_mat('your_data.xlsx')"
   ]
  },
  {
   "cell_type": "code",
   "execution_count": 23,
   "id": "268f4dfc",
   "metadata": {},
   "outputs": [
    {
     "name": "stdout",
     "output_type": "stream",
     "text": [
      "Saved .mat file to: C:\\Users\\hp\\Desktop\\REG108S\\Project\\MatLab Data\\LoadFlow 20250502\\upsampled_288.mat\n"
     ]
    }
   ],
   "source": [
    "# Example usage\n",
    "filepath = r\"C:\\Users\\hp\\Desktop\\REG108S\\Project\\MatLab Data\\LoadFlow 20250502\\upsampled_288.csv\"\n",
    "convert_to_mat(filepath)\n",
    "# convert_to_mat('your_data.xlsx')"
   ]
  },
  {
   "cell_type": "code",
   "execution_count": 24,
   "id": "4affd2bf",
   "metadata": {},
   "outputs": [
    {
     "name": "stdout",
     "output_type": "stream",
     "text": [
      "Saved .mat file to: C:\\Users\\hp\\Desktop\\REG108S\\Project\\MatLab Data\\LoadFlow 20250503\\upsampled_288.mat\n"
     ]
    }
   ],
   "source": [
    "# Example usage\n",
    "filepath = r\"C:\\Users\\hp\\Desktop\\REG108S\\Project\\MatLab Data\\LoadFlow 20250503\\upsampled_288.csv\"\n",
    "convert_to_mat(filepath)\n",
    "# convert_to_mat('your_data.xlsx')"
   ]
  },
  {
   "cell_type": "code",
   "execution_count": 25,
   "id": "e3bcfc82",
   "metadata": {},
   "outputs": [
    {
     "name": "stdout",
     "output_type": "stream",
     "text": [
      "Saved .mat file to: C:\\Users\\hp\\Desktop\\REG108S\\Project\\MatLab Data\\LoadFlow 20250504\\upsampled_288.mat\n"
     ]
    }
   ],
   "source": [
    "# Example usage\n",
    "filepath = r\"C:\\Users\\hp\\Desktop\\REG108S\\Project\\MatLab Data\\LoadFlow 20250504\\upsampled_288.csv\"\n",
    "convert_to_mat(filepath)\n",
    "# convert_to_mat('your_data.xlsx')"
   ]
  },
  {
   "cell_type": "code",
   "execution_count": 26,
   "id": "1047de3b",
   "metadata": {},
   "outputs": [
    {
     "name": "stdout",
     "output_type": "stream",
     "text": [
      "Saved .mat file to: C:\\Users\\hp\\Desktop\\REG108S\\Project\\MatLab Data\\LoadFlow 20250505\\upsampled_288.mat\n"
     ]
    }
   ],
   "source": [
    "# Example usage\n",
    "filepath = r\"C:\\Users\\hp\\Desktop\\REG108S\\Project\\MatLab Data\\LoadFlow 20250505\\upsampled_288.csv\"\n",
    "convert_to_mat(filepath)\n",
    "# convert_to_mat('your_data.xlsx')"
   ]
  },
  {
   "cell_type": "code",
   "execution_count": 27,
   "id": "aefdc0bf",
   "metadata": {},
   "outputs": [
    {
     "name": "stdout",
     "output_type": "stream",
     "text": [
      "Saved .mat file to: C:\\Users\\hp\\Desktop\\REG108S\\Project\\MatLab Data\\LoadFlow 20250506\\upsampled_288.mat\n"
     ]
    }
   ],
   "source": [
    "# Example usage\n",
    "filepath = r\"C:\\Users\\hp\\Desktop\\REG108S\\Project\\MatLab Data\\LoadFlow 20250506\\upsampled_288.csv\"\n",
    "convert_to_mat(filepath)\n",
    "# convert_to_mat('your_data.xlsx')"
   ]
  },
  {
   "cell_type": "code",
   "execution_count": 28,
   "id": "d3cfd1fe",
   "metadata": {},
   "outputs": [
    {
     "name": "stdout",
     "output_type": "stream",
     "text": [
      "Saved .mat file to: C:\\Users\\hp\\Desktop\\REG108S\\Project\\MatLab Data\\LoadFlow 20250507\\upsampled_288.mat\n"
     ]
    }
   ],
   "source": [
    "# Example usage\n",
    "filepath = r\"C:\\Users\\hp\\Desktop\\REG108S\\Project\\MatLab Data\\LoadFlow 20250507\\upsampled_288.csv\"\n",
    "convert_to_mat(filepath)\n",
    "# convert_to_mat('your_data.xlsx')"
   ]
  },
  {
   "cell_type": "code",
   "execution_count": 29,
   "id": "d097315c",
   "metadata": {},
   "outputs": [
    {
     "name": "stdout",
     "output_type": "stream",
     "text": [
      "Saved .mat file to: C:\\Users\\hp\\Desktop\\REG108S\\Project\\MatLab Data\\LoadFlow 20250508\\upsampled_288.mat\n"
     ]
    }
   ],
   "source": [
    "# Example usage\n",
    "filepath = r\"C:\\Users\\hp\\Desktop\\REG108S\\Project\\MatLab Data\\LoadFlow 20250508\\upsampled_288.csv\"\n",
    "convert_to_mat(filepath)\n",
    "# convert_to_mat('your_data.xlsx')"
   ]
  }
 ],
 "metadata": {
  "kernelspec": {
   "display_name": "Python 3",
   "language": "python",
   "name": "python3"
  },
  "language_info": {
   "codemirror_mode": {
    "name": "ipython",
    "version": 3
   },
   "file_extension": ".py",
   "mimetype": "text/x-python",
   "name": "python",
   "nbconvert_exporter": "python",
   "pygments_lexer": "ipython3",
   "version": "3.11.0"
  }
 },
 "nbformat": 4,
 "nbformat_minor": 5
}
