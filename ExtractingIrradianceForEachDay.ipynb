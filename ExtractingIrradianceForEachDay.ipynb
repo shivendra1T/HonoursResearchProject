{
 "cells": [
  {
   "cell_type": "code",
   "execution_count": 3,
   "id": "8798a1a5",
   "metadata": {},
   "outputs": [
    {
     "name": "stdout",
     "output_type": "stream",
     "text": [
      "['YEAR', 'MO', 'DY', 'HR', 'ALLSKY_SFC_SW_DWN', 'ALLSKY_SFC_SW_DNI']\n",
      "Saved: C:\\Users\\hp\\Desktop\\REG108S\\Project\\DNI_2024_04_30.xlsx\n",
      "Saved: C:\\Users\\hp\\Desktop\\REG108S\\Project\\DNI_2024_05_01.xlsx\n",
      "Saved: C:\\Users\\hp\\Desktop\\REG108S\\Project\\DNI_2024_05_02.xlsx\n",
      "Saved: C:\\Users\\hp\\Desktop\\REG108S\\Project\\DNI_2024_05_03.xlsx\n",
      "Saved: C:\\Users\\hp\\Desktop\\REG108S\\Project\\DNI_2024_05_04.xlsx\n",
      "Saved: C:\\Users\\hp\\Desktop\\REG108S\\Project\\DNI_2024_05_05.xlsx\n",
      "Saved: C:\\Users\\hp\\Desktop\\REG108S\\Project\\DNI_2024_05_06.xlsx\n",
      "Saved: C:\\Users\\hp\\Desktop\\REG108S\\Project\\DNI_2024_05_07.xlsx\n",
      "Saved: C:\\Users\\hp\\Desktop\\REG108S\\Project\\DNI_2024_05_08.xlsx\n"
     ]
    }
   ],
   "source": [
    "import pandas as pd\n",
    "import os\n",
    "\n",
    "# --- Step 1: Load the Excel file ---\n",
    "file_path = r\"C:\\Users\\hp\\Desktop\\REG108S\\Project\\POWER_Point_Hourly_20240430_20240508_025d88S_029d23E_LST.xlsx\"\n",
    "df = pd.read_excel(file_path)\n",
    "\n",
    "\n",
    "\n",
    "print(df.columns.tolist())\n",
    "\n",
    "\n",
    "# --- Step 2: Group by each day ---\n",
    "grouped = df.groupby(['YEAR', 'MO', 'DY'])\n",
    "\n",
    "# --- Step 3: Create folder to save files (same location as input file) ---\n",
    "save_folder = os.path.dirname(file_path)\n",
    "\n",
    "# --- Step 4: Save each day's DNI data to a separate Excel file ---\n",
    "for (year, month, day), group in grouped:\n",
    "    dni_data = group[['ALLSKY_SFC_SW_DNI']].reset_index(drop=True)\n",
    "    file_name = f\"DNI_{year}_{str(month).zfill(2)}_{str(day).zfill(2)}.xlsx\"\n",
    "    full_path = os.path.join(save_folder, file_name)\n",
    "    dni_data.to_excel(full_path, index=False)\n",
    "    print(f\"Saved: {full_path}\")\n"
   ]
  }
 ],
 "metadata": {
  "kernelspec": {
   "display_name": "Python 3",
   "language": "python",
   "name": "python3"
  },
  "language_info": {
   "codemirror_mode": {
    "name": "ipython",
    "version": 3
   },
   "file_extension": ".py",
   "mimetype": "text/x-python",
   "name": "python",
   "nbconvert_exporter": "python",
   "pygments_lexer": "ipython3",
   "version": "3.11.0"
  }
 },
 "nbformat": 4,
 "nbformat_minor": 5
}
