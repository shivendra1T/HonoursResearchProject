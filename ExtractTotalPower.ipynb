{
 "cells": [
  {
   "cell_type": "code",
   "execution_count": null,
   "id": "40460fcb",
   "metadata": {},
   "outputs": [
    {
     "name": "stdout",
     "output_type": "stream",
     "text": [
      "Saved: C:\\Users\\hp\\Desktop\\REG108S\\Project\\MatLab Data\\LoadFlow 20250430\\ThreePhaseLoads_with_zeros.xlsx\n",
      "Saved: C:\\Users\\hp\\Desktop\\REG108S\\Project\\MatLab Data\\LoadFlow 20250430\\SinglePhaseLoads_with_zeros.xlsx\n",
      "Saved: C:\\Users\\hp\\Desktop\\REG108S\\Project\\MatLab Data\\LoadFlow 20250430\\House15kW_with_zeros.xlsx\n"
     ]
    }
   ],
   "source": [
    "# import pandas as pd\n",
    "# import os\n",
    "\n",
    "# # --- Step 1: Load the Excel file ---\n",
    "# file_path = r\"C:\\Users\\hp\\Desktop\\REG108S\\Project\\MatLab Data\\LoadFlow 20250430\\LoadFlow20250430.xlsx\"\n",
    "\n",
    "# # Extract folder of the original file\n",
    "# folder = os.path.dirname(file_path)\n",
    "\n",
    "# # Read 'Sheet1' from the Excel file\n",
    "# df = pd.read_excel(file_path, sheet_name='Sheet1')\n",
    "\n",
    "# # --- Step 2: Define columns to extract ---\n",
    "# columns_to_extract = ['ThreePhaseLoads', 'SinglePhaseLoads', 'House15kW']\n",
    "\n",
    "# # --- Step 3: Process and save each column ---\n",
    "# for col in columns_to_extract:\n",
    "#     if col in df.columns:\n",
    "#         # Create new DataFrame with the column and a column of zeros\n",
    "#         new_df = pd.DataFrame({\n",
    "#             col: df[col],\n",
    "#             'Zeros': [0] * len(df)\n",
    "#         })\n",
    "\n",
    "#         # Create output file path\n",
    "#         output_file = os.path.join(folder, f\"{col}_with_zeros.xlsx\")\n",
    "\n",
    "#         # Save to Excel\n",
    "#         new_df.to_excel(output_file, index=False)\n",
    "\n",
    "#         print(f\"Saved: {output_file}\")\n",
    "#     else:\n",
    "#         print(f\"Column '{col}' not found in the Excel file.\")\n"
   ]
  },
  {
   "cell_type": "code",
   "execution_count": 21,
   "id": "53db4815",
   "metadata": {},
   "outputs": [
    {
     "name": "stdout",
     "output_type": "stream",
     "text": [
      "Saved: C:\\Users\\hp\\Desktop\\REG108S\\Project\\MatLab Data\\LoadFlow 20250508\\Total_with_zeros.xlsx\n"
     ]
    }
   ],
   "source": [
    "import pandas as pd\n",
    "import os\n",
    "\n",
    "# --- Step 1: Load the Excel file ---\n",
    "# file_path = r\"C:\\Users\\hp\\Desktop\\REG108S\\Project\\MatLab Data\\LoadFlow 20250430\\LoadFlow20250430.xlsx\"\n",
    "# file_path = r\"C:\\Users\\hp\\Desktop\\REG108S\\Project\\MatLab Data\\LoadFlow 20250501\\LoadFlow20250501.xlsx\"\n",
    "# file_path = r\"C:\\Users\\hp\\Desktop\\REG108S\\Project\\MatLab Data\\LoadFlow 20250502\\LoadFlow20250502.xlsx\"\n",
    "# file_path = r\"C:\\Users\\hp\\Desktop\\REG108S\\Project\\MatLab Data\\LoadFlow 20250503\\LoadFlow20250503.xlsx\"\n",
    "# file_path = r\"C:\\Users\\hp\\Desktop\\REG108S\\Project\\MatLab Data\\LoadFlow 20250504\\LoadFlow20250504.xlsx\"\n",
    "# file_path = r\"C:\\Users\\hp\\Desktop\\REG108S\\Project\\MatLab Data\\LoadFlow 20250505\\LoadFlow20250505.xlsx\"\n",
    "# file_path = r\"C:\\Users\\hp\\Desktop\\REG108S\\Project\\MatLab Data\\LoadFlow 20250506\\LoadFlow20250506.xlsx\"\n",
    "# file_path = r\"C:\\Users\\hp\\Desktop\\REG108S\\Project\\MatLab Data\\LoadFlow 20250507\\LoadFlow20250507.xlsx\"\n",
    "file_path = r\"C:\\Users\\hp\\Desktop\\REG108S\\Project\\MatLab Data\\LoadFlow 20250508\\LoadFlow20250508.xlsx\"\n",
    "\n",
    "\n",
    "# Extract folder of the original file\n",
    "folder = os.path.dirname(file_path)\n",
    "\n",
    "# Read 'Sheet1' from the Excel file\n",
    "df = pd.read_excel(file_path, sheet_name='Sheet1')\n",
    "\n",
    "# --- Step 2: Define columns to extract ---\n",
    "columns_to_extract = ['Total']\n",
    "\n",
    "# --- Step 3: Process and save each column ---\n",
    "for col in columns_to_extract:\n",
    "    if col in df.columns:\n",
    "        # Create new DataFrame with the column and a column of zeros\n",
    "        new_df = pd.DataFrame({\n",
    "            col: df[col],\n",
    "            'Zeros': [0] * len(df)\n",
    "        })\n",
    "\n",
    "        # Create output file path\n",
    "        output_file = os.path.join(folder, f\"{col}_with_zeros.xlsx\")\n",
    "\n",
    "        # Save to Excel\n",
    "        new_df.to_excel(output_file, index=False)\n",
    "\n",
    "        print(f\"Saved: {output_file}\")\n",
    "    else:\n",
    "        print(f\"Column '{col}' not found in the Excel file.\")\n"
   ]
  }
 ],
 "metadata": {
  "kernelspec": {
   "display_name": "Python 3",
   "language": "python",
   "name": "python3"
  },
  "language_info": {
   "codemirror_mode": {
    "name": "ipython",
    "version": 3
   },
   "file_extension": ".py",
   "mimetype": "text/x-python",
   "name": "python",
   "nbconvert_exporter": "python",
   "pygments_lexer": "ipython3",
   "version": "3.11.0"
  }
 },
 "nbformat": 4,
 "nbformat_minor": 5
}
